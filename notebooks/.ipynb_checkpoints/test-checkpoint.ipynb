{
 "cells": [
  {
   "cell_type": "code",
   "execution_count": 4,
   "id": "eb032279-334a-41de-9bb8-3b226b954011",
   "metadata": {},
   "outputs": [
    {
     "name": "stdout",
     "output_type": "stream",
     "text": [
      "GPU détecté : []\n"
     ]
    }
   ],
   "source": [
    "import tensorflow as tf\n",
    "from tensorflow.keras.models import load_model\n",
    "from tensorflow.keras.preprocessing import image\n",
    "import numpy as np\n",
    "import matplotlib.pyplot as plt\n",
    "import json\n",
    "import io\n",
    "from PIL import Image\n",
    "import ipywidgets as widgets\n",
    "from IPython.display import display, clear_output\n",
    "\n",
    "# Charger le modèle et les classes\n",
    "model = load_model(\"dog_model_finetuined.h5\")\n",
    "img_size = (224, 224)\n",
    "\n",
    "# Charger les noms des races\n",
    "with open(\"dog_breed_labels.json\", \"r\") as f:\n",
    "    labels = json.load(f)\n",
    "\n",
    "def predict_image(img):\n",
    "    img = img.resize(img_size)\n",
    "    x = image.img_to_array(img) / 255.0\n",
    "    x = np.expand_dims(x, axis=0)\n",
    "    \n",
    "    preds = model.predict(x)\n",
    "    class_idx = np.argmax(preds)\n",
    "    predicted_class = labels[str(class_idx)]\n",
    "    confidence = preds[0][class_idx]\n",
    "    \n",
    "    # Affichage\n",
    "    plt.imshow(img)\n",
    "    plt.axis('off')\n",
    "    plt.title(f\"{predicted_class} ({confidence*100:.2f}%)\")\n",
    "    plt.show()\n",
    "\n",
    "# Widget pour uploader une image\n",
    "uploader = widgets.FileUpload(accept='image/*', multiple=False)\n",
    "\n",
    "def on_upload_change(change):\n",
    "    clear_output(wait=True)\n",
    "    for filename, file_info in uploader.value.items():\n",
    "        img_data = file_info['content']\n",
    "        img = Image.open(io.BytesIO(img_data)).convert(\"RGB\")\n",
    "        predict_image(img)\n",
    "\n",
    "uploader.observe(on_upload_change, names='value')\n",
    "display(widgets.HTML(\"<h3>Choisis une image de chien :</h3>\"))\n",
    "display(uploader)\n"
   ]
  }
 ],
 "metadata": {
  "kernelspec": {
   "display_name": "Python 3 (ipykernel)",
   "language": "python",
   "name": "python3"
  },
  "language_info": {
   "codemirror_mode": {
    "name": "ipython",
    "version": 3
   },
   "file_extension": ".py",
   "mimetype": "text/x-python",
   "name": "python",
   "nbconvert_exporter": "python",
   "pygments_lexer": "ipython3",
   "version": "3.11.7"
  }
 },
 "nbformat": 4,
 "nbformat_minor": 5
}
